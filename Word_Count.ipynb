{
 "cells": [
  {
   "cell_type": "code",
   "execution_count": 105,
   "id": "d5131bdb-7e52-490f-8a15-58cc727a3a25",
   "metadata": {},
   "outputs": [],
   "source": [
    "#Import required libraries\n",
    "import findspark\n",
    "findspark.init()\n",
    "\n",
    "import pyspark\n",
    "from pyspark.sql import SparkSession\n",
    "\n",
    "import tkinter as tk\n",
    "from tkinter import filedialog\n",
    "\n",
    "# Create a Spark session with additional configuration settings\n",
    "spark = SparkSession.builder \\\n",
    "    .appName(\"example\") \\\n",
    "    .config(\"spark.driver.memory\", \"2g\") \\\n",
    "    .config(\"spark.executor.memory\", \"2g\") \\\n",
    "    .config(\"spark.executor.cores\", \"2\") \\\n",
    "    .config(\"spark.network.timeout\", \"800s\") \\\n",
    "    .config(\"spark.executor.heartbeatInterval\", \"60s\") \\\n",
    "    .getOrCreate()"
   ]
  },
  {
   "cell_type": "code",
   "execution_count": 106,
   "id": "1a351120-f305-4f76-a2e6-302765ab3b69",
   "metadata": {},
   "outputs": [],
   "source": [
    "#Create sparkContext instance as entry point for RDD\n",
    "sc = spark.sparkContext"
   ]
  },
  {
   "cell_type": "code",
   "execution_count": 107,
   "id": "b3438dab-c4a8-4ea4-93ab-e8010e672748",
   "metadata": {},
   "outputs": [],
   "source": [
    "# Create a Tkinter root window\n",
    "root = tk.Tk()\n",
    "root.withdraw()  # Hide the main window\n",
    "\n",
    "# Prompt the user to select a file\n",
    "file_path = filedialog.askopenfilename()\n",
    "root.destroy()"
   ]
  },
  {
   "cell_type": "code",
   "execution_count": 108,
   "id": "cce7fccd-c5ad-4dc9-804b-4ae1f92bfdc3",
   "metadata": {},
   "outputs": [],
   "source": [
    "RDD = sc.textFile(file_path)"
   ]
  },
  {
   "cell_type": "code",
   "execution_count": 109,
   "id": "50abb585-2964-483b-9c48-0dc6c636ff24",
   "metadata": {},
   "outputs": [
    {
     "data": {
      "text/plain": [
       "['',\n",
       " '                         *THE THREE MUSKETEERS*',\n",
       " '',\n",
       " '                                  _By_',\n",
       " '']"
      ]
     },
     "execution_count": 109,
     "metadata": {},
     "output_type": "execute_result"
    }
   ],
   "source": [
    "RDD.take(5)"
   ]
  },
  {
   "cell_type": "code",
   "execution_count": 110,
   "id": "996fefc7-29b3-4f91-b076-3e579469359a",
   "metadata": {},
   "outputs": [],
   "source": [
    "RDD_split = RDD.flatMap(lambda x : x.split())"
   ]
  },
  {
   "cell_type": "code",
   "execution_count": 111,
   "id": "4587eb31-6000-4221-a844-11f2cbdff026",
   "metadata": {},
   "outputs": [],
   "source": [
    "RDD_split_case = RDD_split.map(lambda x : x.lower())"
   ]
  },
  {
   "cell_type": "code",
   "execution_count": 112,
   "id": "67baa103-5dd0-4cbc-b9fd-a0d1298acd68",
   "metadata": {},
   "outputs": [
    {
     "data": {
      "text/plain": [
       "['*the',\n",
       " 'three',\n",
       " 'musketeers*',\n",
       " '_by_',\n",
       " '*alexandre',\n",
       " 'dumas,',\n",
       " 'pere*',\n",
       " '_first',\n",
       " 'volume',\n",
       " 'of']"
      ]
     },
     "execution_count": 112,
     "metadata": {},
     "output_type": "execute_result"
    }
   ],
   "source": [
    "RDD_split_case.take(10)"
   ]
  },
  {
   "cell_type": "code",
   "execution_count": 113,
   "id": "51777c02-0c2b-4a27-a6b3-a2ebd82a03d5",
   "metadata": {},
   "outputs": [
    {
     "data": {
      "text/plain": [
       "232286"
      ]
     },
     "execution_count": 113,
     "metadata": {},
     "output_type": "execute_result"
    }
   ],
   "source": [
    "RDD_split_case.count()"
   ]
  },
  {
   "cell_type": "code",
   "execution_count": 114,
   "id": "e6573344-4443-42f3-83ee-c194dc28107e",
   "metadata": {},
   "outputs": [],
   "source": [
    "RDD_split_case_pair = RDD_split_case.map(lambda x : (x,1))"
   ]
  },
  {
   "cell_type": "code",
   "execution_count": 115,
   "id": "f54e40e9-e154-4f0a-bf9b-46ca714927f2",
   "metadata": {},
   "outputs": [
    {
     "data": {
      "text/plain": [
       "[('*the', 1),\n",
       " ('three', 1),\n",
       " ('musketeers*', 1),\n",
       " ('_by_', 1),\n",
       " ('*alexandre', 1),\n",
       " ('dumas,', 1),\n",
       " ('pere*', 1),\n",
       " ('_first', 1),\n",
       " ('volume', 1),\n",
       " ('of', 1)]"
      ]
     },
     "execution_count": 115,
     "metadata": {},
     "output_type": "execute_result"
    }
   ],
   "source": [
    "RDD_split_case_pair.take(10)"
   ]
  },
  {
   "cell_type": "code",
   "execution_count": 116,
   "id": "dad03903-e9db-4919-a8dc-e98386fe089b",
   "metadata": {},
   "outputs": [],
   "source": [
    "RDD_split_case_pair_reduce = RDD_split_case_pair.reduceByKey(lambda x, y:x+y)"
   ]
  },
  {
   "cell_type": "code",
   "execution_count": 117,
   "id": "0274ca69-3cd0-4349-9755-6f2c9827785e",
   "metadata": {},
   "outputs": [
    {
     "data": {
      "text/plain": [
       "[('three', 279),\n",
       " ('musketeers*', 1),\n",
       " ('*alexandre', 1),\n",
       " ('pere*', 1),\n",
       " ('_first', 1),\n",
       " ('volume', 1),\n",
       " ('of', 6457),\n",
       " ('series_', 1),\n",
       " ('contents', 6),\n",
       " ('preface', 3)]"
      ]
     },
     "execution_count": 117,
     "metadata": {},
     "output_type": "execute_result"
    }
   ],
   "source": [
    "RDD_split_case_pair_reduce.take(10)"
   ]
  },
  {
   "cell_type": "code",
   "execution_count": 118,
   "id": "a5c368d3-f7e1-40b2-884b-ebfdfccd9f74",
   "metadata": {},
   "outputs": [],
   "source": [
    "RDD_split_case_pair_reduce_sorted = RDD_split_case_pair_reduce.sortBy(lambda x:x[1],ascending=False)"
   ]
  },
  {
   "cell_type": "code",
   "execution_count": 119,
   "id": "75097bce-f4d5-446b-8b7d-692510fd33b9",
   "metadata": {},
   "outputs": [
    {
     "data": {
      "text/plain": [
       "[('the', 13565),\n",
       " ('to', 6577),\n",
       " ('of', 6457),\n",
       " ('and', 5457),\n",
       " ('a', 4664),\n",
       " ('in', 3304),\n",
       " ('i', 3035),\n",
       " ('that', 2986),\n",
       " ('his', 2959),\n",
       " ('you', 2820)]"
      ]
     },
     "execution_count": 119,
     "metadata": {},
     "output_type": "execute_result"
    }
   ],
   "source": [
    "RDD_split_case_pair_reduce_sorted.take(10)"
   ]
  },
  {
   "cell_type": "code",
   "execution_count": 120,
   "id": "dc65c583-65c5-4233-94ff-d5792b4d4f96",
   "metadata": {},
   "outputs": [],
   "source": [
    "total_unique_words = RDD_split_case_pair_reduce_sorted.count()"
   ]
  },
  {
   "cell_type": "code",
   "execution_count": 121,
   "id": "9bb8cc25-6c31-4aed-ae71-b10f0b83cd10",
   "metadata": {},
   "outputs": [
    {
     "data": {
      "text/plain": [
       "22576"
      ]
     },
     "execution_count": 121,
     "metadata": {},
     "output_type": "execute_result"
    }
   ],
   "source": [
    "total_unique_words"
   ]
  },
  {
   "cell_type": "code",
   "execution_count": 122,
   "id": "e4762e76-fb51-4545-adf0-305508b99148",
   "metadata": {},
   "outputs": [],
   "source": [
    "total_sum = RDD_split_case_pair_reduce_sorted.values().sum()"
   ]
  },
  {
   "cell_type": "code",
   "execution_count": 123,
   "id": "b1bb2c90-7a7c-46e4-900e-3fe601507624",
   "metadata": {},
   "outputs": [
    {
     "data": {
      "text/plain": [
       "232286"
      ]
     },
     "execution_count": 123,
     "metadata": {},
     "output_type": "execute_result"
    }
   ],
   "source": [
    "total_sum"
   ]
  },
  {
   "cell_type": "code",
   "execution_count": 124,
   "id": "6c1bb1ce-4121-4ed7-930b-2a2c8ca5fe49",
   "metadata": {},
   "outputs": [],
   "source": [
    "sc.stop()"
   ]
  }
 ],
 "metadata": {
  "kernelspec": {
   "display_name": "Python 3 (ipykernel)",
   "language": "python",
   "name": "python3"
  },
  "language_info": {
   "codemirror_mode": {
    "name": "ipython",
    "version": 3
   },
   "file_extension": ".py",
   "mimetype": "text/x-python",
   "name": "python",
   "nbconvert_exporter": "python",
   "pygments_lexer": "ipython3",
   "version": "3.11.7"
  }
 },
 "nbformat": 4,
 "nbformat_minor": 5
}
